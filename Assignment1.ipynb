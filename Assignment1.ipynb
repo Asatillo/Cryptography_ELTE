{
 "cells": [
  {
   "cell_type": "code",
   "execution_count": 5,
   "id": "c7a0a644",
   "metadata": {},
   "outputs": [
    {
     "name": "stdout",
     "output_type": "stream",
     "text": [
      "Decryptin with 1: Result: znoy oy gt gizagr ktixevzkj zkdz \n",
      "Decryptin with 2: Result: ymnx nx fs fhyzfq jshwduyji yjcy \n",
      "Decryptin with 3: Result: xlmw mw er egxyep irgvctxih xibx \n",
      "Decryptin with 4: Result: wklv lv dq dfwxdo hqfubswhg whaw \n",
      "Decryptin with 5: Result: vjku ku cp cevwcn gpetarvgf vgzv \n",
      "Decryptin with 6: Result: uijt jt bo bduvbm fodszqufe ufyu \n",
      "Decryptin with 7: Result: this is an actual encrypted text \n",
      "Decryptin with 8: Result: sghr hr zm zbstzk dmbqxosdc sdws \n",
      "Decryptin with 9: Result: rfgq gq yl yarsyj clapwnrcb rcvr \n",
      "Decryptin with 10: Result: qefp fp xk xzqrxi bkzovmqba qbuq \n",
      "Decryptin with 27: Result: vjku ku cp cevwcn gpetarvgf vgzv \n"
     ]
    }
   ],
   "source": [
    "alphabet=\"abcdefghijklmnopqrstuvwxyz\"\n",
    "# Encrypted text: this is an actual encrypted text\n",
    "# Key: 7\n",
    "encrypted=\"aopz pz hu hjabhs lujyfwalk alea\"\n",
    "keys_list=[1,2,3,4,5,6,7,8,9,10,27]\n",
    "\n",
    "def bruteforce_caesar(encrypted, keys_list):\n",
    "    # it itterates through each key in the list of possible keys\n",
    "    for key in keys_list:\n",
    "        # assigns an empty string to a variable in order to construct a decrypted text\n",
    "        decrypted=''\n",
    "        # itterates through every letter of the given text\n",
    "        for letter in encrypted:\n",
    "            # finds the letter which is under a certain index if the current letter\n",
    "            if letter != ' ':\n",
    "                decr_letter = alphabet[alphabet.find(letter) - (key%len(keys_list))]\n",
    "            # adds space if the character is space\n",
    "            else:\n",
    "                decr_letter = ' '\n",
    "            # adds the received character to a variable in order to print out\n",
    "            decrypted += decr_letter\n",
    "\n",
    "        print(\"Decryptin with {}: Result: {} \".format(key, decrypted))\n",
    "\n",
    "bruteforce_caesar(encrypted, keys_list)"
   ]
  },
  {
   "cell_type": "code",
   "execution_count": null,
   "id": "6fc2085a",
   "metadata": {},
   "outputs": [],
   "source": []
  }
 ],
 "metadata": {
  "kernelspec": {
   "display_name": "Python 3 (ipykernel)",
   "language": "python",
   "name": "python3"
  },
  "language_info": {
   "codemirror_mode": {
    "name": "ipython",
    "version": 3
   },
   "file_extension": ".py",
   "mimetype": "text/x-python",
   "name": "python",
   "nbconvert_exporter": "python",
   "pygments_lexer": "ipython3",
   "version": "3.10.6"
  }
 },
 "nbformat": 4,
 "nbformat_minor": 5
}
