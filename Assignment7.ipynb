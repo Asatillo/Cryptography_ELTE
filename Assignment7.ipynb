{
 "cells": [
  {
   "cell_type": "markdown",
   "metadata": {
    "collapsed": false
   },
   "source": [
    "#### Please use this file to write and execute your solution.\n",
    "\n"
   ]
  },
  {
   "cell_type": "code",
   "execution_count": 3,
   "metadata": {
    "collapsed": false
   },
   "outputs": [
   ],
   "source": [
    "from hashlib import sha1  # Importing the SHA-1 hashing function\n",
    "from Crypto.Cipher import AES # Importing the AES encryption module from the pycryptodome library\n",
    "import secrets # Importing the secrets module for generating cryptographically secure random numbers"
   ]
  },
  {
   "cell_type": "code",
   "execution_count": 4,
   "metadata": {
    "collapsed": false
   },
   "outputs": [
   ],
   "source": [
    "BLOCK_SIZE = 16 # Setting the block size to 16 bytes\n",
    "# lambda function for padding the plaintext\n",
    "pad = lambda s: s + (BLOCK_SIZE - len(s)%BLOCK_SIZE) * chr(BLOCK_SIZE - len(s) % BLOCK_SIZE)\n",
    "# lambda function for unpadding the plaintext\n",
    "unpad = lambda s: s[:-ord(s[len(s) - 1:])]"
   ]
  },
  {
   "cell_type": "code",
   "execution_count": 5,
   "metadata": {
    "collapsed": false
   },
   "outputs": [
   ],
   "source": [
    "key = b'\\xfe\\xd5\\xa5\\x81\\x9e\\xce!\\xd3F\\xf1\\x1d\\xef\\xd2\\x12\\xf1\\xd1'  # 16-byte encryption/decryption key"
   ]
  },
  {
   "cell_type": "code",
   "execution_count": 6,
   "metadata": {
    "collapsed": false
   },
   "outputs": [
   ],
   "source": [
    "def aes_encrypt(plaintext):\n",
    "    iv = secrets.token_bytes(BLOCK_SIZE) # Generating a random 16-byte initialization vector (IV) using the secrets module\n",
    "    Enc = AES.new(key, AES.MODE_CBC, iv) # Creating an AES encryption object with the key and IV\n",
    "    data = pad(plaintext).encode() # Padding the plaintext and encoding it to bytes\n",
    "    ciphertext = Enc.encrypt(data) # Encrypting the padded plaintext using the AES object\n",
    "    ciphertext_hex = iv.hex() + ciphertext.hex() # Concatenating the IV and ciphertext, and converting the result to hexadecimal\n",
    "    return ciphertext_hex # Returning cipherext in hexadecimal"
   ]
  },
  {
   "cell_type": "code",
   "execution_count": 7,
   "metadata": {
    "collapsed": false
   },
   "outputs": [
   ],
   "source": [
    "def aes_decrypt(ciphertext):\n",
    "    iv = bytes.fromhex(ciphertext[:32]) # Extracting the IV from the ciphertext (first 32 hexadecimal characters)\n",
    "    ciphertext = bytes.fromhex(ciphertext[32:]) # Extracting the ciphertext from the remainder of the ciphertext (excluding the first 32 characters)\n",
    "    Dec = AES.new(key, AES.MODE_CBC, iv) # Creating an AES decryption object with the key and IV\n",
    "    pt = Dec.decrypt(ciphertext) # Decrypting the ciphertext using the AES object\n",
    "    return unpad(pt) # Returning the Unpadded decrypted plaintext"
   ]
  },
  {
   "cell_type": "code",
   "execution_count": 8,
   "metadata": {
    "collapsed": false
   },
   "outputs": [
   ],
   "source": [
    "def sender():\n",
    "    with open('message.txt', 'r') as file: # Opening the text file in a read mode\n",
    "        text = file.read() # Reading and saving the content of the text file\n",
    "    hashed_text = sha1(text.encode()).hexdigest() # Hashing the plaintext using sha1 hashing function\n",
    "    cipher_text = aes_encrypt(hashed_text) # Encrypting the hashed plaintext\n",
    "\n",
    "    return cipher_text, text # Returning ciphered text and plaintext"
   ]
  },
  {
   "cell_type": "code",
   "execution_count": 9,
   "metadata": {
    "collapsed": false
   },
   "outputs": [
   ],
   "source": [
    "def receiver(hash_value):\n",
    "    decrypted = aes_decrypt(hash_value) #decrypting received hash_value\n",
    "    hashed_decrypted = decrypted.decode('ascii') # decoding to ascii\n",
    "    return hashed_decrypted # Returning decrypted hashed text"
   ]
  },
  {
   "cell_type": "code",
   "execution_count": 28,
   "metadata": {
    "collapsed": false
   },
   "outputs": [
    {
     "name": "stdout",
     "output_type": "stream",
     "text": [
      "Correct!\n",
      "Strings are not identical, sender of receiver is working incorrectly!\n"
     ]
    }
   ],
   "source": [
    "encrypted_text, plaintext = sender() # sending text to encode\n",
    "plaintext_hashed = sha1(plaintext.encode()).hexdigest() # hashing the value of the txt file\n",
    "\n",
    "# Not altered message\n",
    "encrypted_hashed = receiver(encrypted_text)\n",
    "if plaintext_hashed == encrypted_hashed:\n",
    "    print(\"Correct!\")\n",
    "else:\n",
    "    print(\"Strings are not identical, sender of receiver is working incorrectly!\")\n",
    "\n",
    "# Test with modified message\n",
    "encrypted_hashed = receiver(encrypted_text.replace(encrypted_text[2], '1')) # replaces the third char with '1'\n",
    "#Please try to rerun the block in case you get error, as I found it as the fastest way to manipulate `encrypted_text`\n",
    "if plaintext_hashed == encrypted_hashed:\n",
    "    print(\"Correct!\")\n",
    "else:\n",
    "    print(\"Strings are not identical, sender of receiver is working incorrectly!\")\n",
    "\n",
    "# Expected output:\n",
    "#Correct!\n",
    "#Strings are not identical, sender of receiver is working incorrectly!"
   ]
  }
 ],
 "metadata": {
  "kernelspec": {
   "argv": [
    "/ext/anaconda2021.11/bin/python3",
    "-E",
    "-m",
    "ipykernel",
    "--matplotlib=inline",
    "-c",
    "%config InlineBackend.figure_formats = set(['retina'])\nimport matplotlib; matplotlib.rcParams['figure.figsize'] = (12, 7)",
    "-f",
    "{connection_file}"
   ],
   "display_name": "Python 3 (Anaconda 2021)",
   "env": {
    "ADDR2LINE": "/ext/anaconda2021.11/bin/x86_64-conda_cos6-linux-gnu-addr2line",
    "ANACONDA2021": "/ext/anaconda2021.11",
    "ANACONDA3": "$EXT/anaconda3",
    "ANACONDA5": "$EXT/anaconda5",
    "AR": "/ext/anaconda2021.11/bin/x86_64-conda_cos6-linux-gnu-ar",
    "AS": "/ext/anaconda2021.11/bin/x86_64-conda_cos6-linux-gnu-as",
    "CC": "/ext/anaconda2021.11/bin/x86_64-conda_cos6-linux-gnu-cc",
    "CFLAGS": "-march=nocona -mtune=haswell -ftree-vectorize -fPIC -fstack-protector-strong -fno-plt -O2 -ffunction-sections -pipe -isystem /ext/anaconda2021.11/include",
    "CMAKE_PREFIX_PATH": "/ext/anaconda2021.11:/ext/anaconda2021.11/x86_64-conda_cos6-linux-gnu/sysroot/usr",
    "CONDA_BACKUP_HOST": "x86_64-conda_cos6-linux-gnu",
    "CONDA_BUILD_SYSROOT": "/ext/anaconda2021.11/x86_64-conda_cos6-linux-gnu/sysroot",
    "CONDA_DEFAULT_ENV": "base",
    "CONDA_EXE": "/ext/anaconda2021.11/bin/conda",
    "CONDA_MKL_INTERFACE_LAYER_BACKUP": "",
    "CONDA_PREFIX": "/ext/anaconda2021.11",
    "CONDA_PROMPT_MODIFIER": "(base) ",
    "CONDA_PYTHON_EXE": "/ext/anaconda2021.11/bin/python",
    "CONDA_SHLVL": "1",
    "CPP": "/ext/anaconda2021.11/bin/x86_64-conda_cos6-linux-gnu-cpp",
    "CPPFLAGS": "-DNDEBUG -D_FORTIFY_SOURCE=2 -O2 -isystem /ext/anaconda2021.11/include",
    "CXX": "/ext/anaconda2021.11/bin/x86_64-conda_cos6-linux-gnu-c++",
    "CXXFILT": "/ext/anaconda2021.11/bin/x86_64-conda_cos6-linux-gnu-c++filt",
    "CXXFLAGS": "-fvisibility-inlines-hidden -std=c++17 -fmessage-length=0 -march=nocona -mtune=haswell -ftree-vectorize -fPIC -fstack-protector-strong -fno-plt -O2 -ffunction-sections -pipe -isystem /ext/anaconda2021.11/include",
    "DEBUG_CFLAGS": "-march=nocona -mtune=haswell -ftree-vectorize -fPIC -fstack-protector-all -fno-plt -Og -g -Wall -Wextra -fvar-tracking-assignments -ffunction-sections -pipe -isystem /ext/anaconda2021.11/include",
    "DEBUG_CPPFLAGS": "-D_DEBUG -D_FORTIFY_SOURCE=2 -Og -isystem /ext/anaconda2021.11/include",
    "DEBUG_CXXFLAGS": "-fvisibility-inlines-hidden -std=c++17 -fmessage-length=0 -march=nocona -mtune=haswell -ftree-vectorize -fPIC -fstack-protector-all -fno-plt -Og -g -Wall -Wextra -fvar-tracking-assignments -ffunction-sections -pipe -isystem /ext/anaconda2021.11/include",
    "DEBUG_FFLAGS": "-fopenmp -march=nocona -mtune=haswell -ftree-vectorize -fPIC -fstack-protector-strong -fno-plt -O2 -ffunction-sections -pipe -isystem /ext/anaconda2021.11/include -fopenmp -march=nocona -mtune=haswell -ftree-vectorize -fPIC -fstack-protector-all -fno-plt -Og -g -Wall -Wextra -fcheck=all -fbacktrace -fimplicit-none -fvar-tracking-assignments -ffunction-sections -pipe",
    "DEBUG_FORTRANFLAGS": "-fopenmp -march=nocona -mtune=haswell -ftree-vectorize -fPIC -fstack-protector-strong -fno-plt -O2 -ffunction-sections -pipe -isystem /ext/anaconda2021.11/include -fopenmp -march=nocona -mtune=haswell -ftree-vectorize -fPIC -fstack-protector-all -fno-plt -Og -g -Wall -Wextra -fcheck=all -fbacktrace -fimplicit-none -fvar-tracking-assignments -ffunction-sections -pipe",
    "ELFEDIT": "/ext/anaconda2021.11/bin/x86_64-conda_cos6-linux-gnu-elfedit",
    "F77": "/ext/anaconda2021.11/bin/x86_64-conda_cos6-linux-gnu-gfortran",
    "F90": "/ext/anaconda2021.11/bin/x86_64-conda_cos6-linux-gnu-gfortran",
    "F95": "/ext/anaconda2021.11/bin/x86_64-conda_cos6-linux-gnu-f95",
    "FC": "/ext/anaconda2021.11/bin/x86_64-conda_cos6-linux-gnu-gfortran",
    "FFLAGS": "-fopenmp -march=nocona -mtune=haswell -ftree-vectorize -fPIC -fstack-protector-strong -fno-plt -O2 -ffunction-sections -pipe -isystem /ext/anaconda2021.11/include",
    "FORTRANFLAGS": "-fopenmp -march=nocona -mtune=haswell -ftree-vectorize -fPIC -fstack-protector-strong -fno-plt -O2 -ffunction-sections -pipe -isystem /ext/anaconda2021.11/include",
    "GCC": "/ext/anaconda2021.11/bin/x86_64-conda_cos6-linux-gnu-gcc",
    "GCC_AR": "/ext/anaconda2021.11/bin/x86_64-conda_cos6-linux-gnu-gcc-ar",
    "GCC_NM": "/ext/anaconda2021.11/bin/x86_64-conda_cos6-linux-gnu-gcc-nm",
    "GCC_RANLIB": "/ext/anaconda2021.11/bin/x86_64-conda_cos6-linux-gnu-gcc-ranlib",
    "GDAL_DATA": "/ext/anaconda2021.11/share/gdal",
    "GFORTRAN": "/ext/anaconda2021.11/bin/x86_64-conda_cos6-linux-gnu-gfortran",
    "GPROF": "/ext/anaconda2021.11/bin/x86_64-conda_cos6-linux-gnu-gprof",
    "GXX": "/ext/anaconda2021.11/bin/x86_64-conda_cos6-linux-gnu-g++",
    "JAVA_HOME": "/ext/anaconda2021.11",
    "JAVA_HOME_CONDA_BACKUP": "",
    "JAVA_LD_LIBRARY_PATH": "/ext/anaconda2021.11/lib/server",
    "LD": "/ext/anaconda2021.11/bin/x86_64-conda_cos6-linux-gnu-ld",
    "LDFLAGS": "-Wl,-O2 -Wl,--sort-common -Wl,--as-needed -Wl,-z,relro -Wl,-z,now -Wl,--disable-new-dtags -Wl,--gc-sections -Wl,-rpath,/ext/anaconda2021.11/lib -Wl,-rpath-link,/ext/anaconda2021.11/lib -L/ext/anaconda2021.11/lib",
    "LD_GOLD": "/ext/anaconda2021.11/bin/x86_64-conda_cos6-linux-gnu-ld.gold",
    "LD_LIBRARY_PATH": "/ext/anaconda2021.11/lib",
    "MKL_INTERFACE_LAYER": "LP64,GNU",
    "MKL_THREADING_LAYER": "GNU",
    "NM": "/ext/anaconda2021.11/bin/x86_64-conda_cos6-linux-gnu-nm",
    "OBJCOPY": "/ext/anaconda2021.11/bin/x86_64-conda_cos6-linux-gnu-objcopy",
    "OBJDUMP": "/ext/anaconda2021.11/bin/x86_64-conda_cos6-linux-gnu-objdump",
    "OLDPWD": "/ext/anaconda2021.11",
    "PATH": "/ext/anaconda2021.11/bin:/ext/anaconda2021.11/bin:/ext/anaconda2021.11/condabin:/cocalc/bin:/cocalc/src/smc-project/bin:/home/salvus/bin:/home/salvus/.local/bin:/usr/lib/xpra:/ext/bin:/opt/ghc/bin:/usr/local/sbin:/usr/local/bin:/usr/sbin:/usr/bin:/sbin:/bin:/snap/bin:/usr/lib/postgresql/10/bin:/ext/data/homer/bin:/ext/data/weblogo",
    "PROJ_LIB": "/ext/anaconda2021.11/share/proj",
    "RANLIB": "/ext/anaconda2021.11/bin/x86_64-conda_cos6-linux-gnu-ranlib",
    "READELF": "/ext/anaconda2021.11/bin/x86_64-conda_cos6-linux-gnu-readelf",
    "RSTUDIO_WHICH_R": "/ext/anaconda2021.11/bin/R",
    "SIZE": "/ext/anaconda2021.11/bin/x86_64-conda_cos6-linux-gnu-size",
    "STRINGS": "/ext/anaconda2021.11/bin/x86_64-conda_cos6-linux-gnu-strings",
    "STRIP": "/ext/anaconda2021.11/bin/x86_64-conda_cos6-linux-gnu-strip",
    "_CE_CONDA": "",
    "_CE_M": "",
    "_CONDA_PYTHON_SYSCONFIGDATA_NAME": "_sysconfigdata_x86_64_conda_cos6_linux_gnu"
   },
   "language": "python",
   "metadata": {
    "cocalc": {
     "description": "Anaconda 2021.11 Python 3 environment",
     "priority": 10,
     "url": "https://www.anaconda.com/distribution/"
    }
   },
   "name": "anaconda2021",
   "resource_dir": "/ext/jupyter/kernels/anaconda2021"
  },
  "language_info": {
   "codemirror_mode": {
    "name": "ipython",
    "version": 3
   },
   "file_extension": ".py",
   "mimetype": "text/x-python",
   "name": "python",
   "nbconvert_exporter": "python",
   "pygments_lexer": "ipython3",
   "version": "3.9.7"
  }
 },
 "nbformat": 4,
 "nbformat_minor": 4
}