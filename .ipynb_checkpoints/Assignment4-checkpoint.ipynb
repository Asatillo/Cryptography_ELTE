{
 "cells": [
  {
   "cell_type": "code",
   "execution_count": null,
   "id": "b48a9e17",
   "metadata": {},
   "outputs": [],
   "source": [
    "from binascii import hexlify, unhexlify\n",
    "from random import randint"
   ]
  },
  {
   "cell_type": "code",
   "execution_count": null,
   "id": "9afb1848",
   "metadata": {},
   "outputs": [],
   "source": [
    "def randkey(n):\n",
    "    key = \"\".join(chr(randint(0,256)) for _ in range(n))\n",
    "    return key"
   ]
  },
  {
   "cell_type": "code",
   "execution_count": null,
   "id": "e06ce42f",
   "metadata": {},
   "outputs": [],
   "source": [
    "def xor(string1, string2):\n",
    "    return \"\".join([chr(ord(c1) ^ ord(c2)) for (c1,c2) in zip(string1,string2)])"
   ]
  },
  {
   "cell_type": "code",
   "execution_count": null,
   "id": "b1afdf45",
   "metadata": {},
   "outputs": [],
   "source": [
    "ciphertext = b'62716b6b777862677362667e7b'\n",
    "plaintext = 'cybersecurity'"
   ]
  },
  {
   "cell_type": "code",
   "execution_count": null,
   "id": "b15e8792",
   "metadata": {},
   "outputs": [],
   "source": [
    "cipher = unhexlify(cipher_hex).decode()\n",
    "plain = xor(cipher, secret)\n",
    "print(\"decoded plain = \", plain)"
   ]
  }
 ],
 "metadata": {
  "kernelspec": {
   "display_name": "Python 3 (ipykernel)",
   "language": "python",
   "name": "python3"
  },
  "language_info": {
   "codemirror_mode": {
    "name": "ipython",
    "version": 3
   },
   "file_extension": ".py",
   "mimetype": "text/x-python",
   "name": "python",
   "nbconvert_exporter": "python",
   "pygments_lexer": "ipython3",
   "version": "3.10.6"
  }
 },
 "nbformat": 4,
 "nbformat_minor": 5
}
