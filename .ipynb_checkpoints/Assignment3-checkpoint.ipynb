{
 "cells": [
  {
   "cell_type": "code",
   "execution_count": 28,
   "id": "cba80d9f",
   "metadata": {},
   "outputs": [],
   "source": [
    "from binascii import hexlify, unhexlify"
   ]
  },
  {
   "cell_type": "code",
   "execution_count": null,
   "id": "361e65ca",
   "metadata": {},
   "outputs": [],
   "source": [
    "encrypted_text = b'1525053514291239'"
   ]
  },
  {
   "cell_type": "code",
   "execution_count": 31,
   "id": "cc1f0b3a",
   "metadata": {},
   "outputs": [],
   "source": [
    "def xor(string1, string2):\n",
    "    return \"\".join([chr(ord(c1) ^ ord(c2)) for (c1,c2) in zip(string1,string2)])"
   ]
  },
  {
   "cell_type": "code",
   "execution_count": 79,
   "id": "e2988f85",
   "metadata": {},
   "outputs": [],
   "source": [
    "# funct to decrypt\n",
    "def brute_crack(cipher_hex):\n",
    "    c = unhexlify(cipher_hex).decode()\n",
    "    # open file in a read mode\n",
    "    f = open(\"common_words.txt\", \"r\")\n",
    "    words = f.read()\n",
    "    # loop through all characters\n",
    "    for letter in range(256):\n",
    "        # generating a secret key\n",
    "        k = (chr(letter) + \"@\") * 4\n",
    "        # decrypting\n",
    "        m = xor(c, k)\n",
    "        # chacking if the result word is in the text file\n",
    "        if m in words:\n",
    "            # return the word and secret letter used to decrypt if the word is in the file\n",
    "            return m, chr(letter)"
   ]
  },
  {
   "cell_type": "code",
   "execution_count": 80,
   "id": "436b534b",
   "metadata": {},
   "outputs": [
    {
     "data": {
      "text/plain": [
       "('security', 'f')"
      ]
     },
     "execution_count": 80,
     "metadata": {},
     "output_type": "execute_result"
    }
   ],
   "source": [
    "brute_crack(encrypted_text)"
   ]
  }
 ],
 "metadata": {
  "kernelspec": {
   "display_name": "Python 3 (ipykernel)",
   "language": "python",
   "name": "python3"
  },
  "language_info": {
   "codemirror_mode": {
    "name": "ipython",
    "version": 3
   },
   "file_extension": ".py",
   "mimetype": "text/x-python",
   "name": "python",
   "nbconvert_exporter": "python",
   "pygments_lexer": "ipython3",
   "version": "3.10.6"
  }
 },
 "nbformat": 4,
 "nbformat_minor": 5
}
