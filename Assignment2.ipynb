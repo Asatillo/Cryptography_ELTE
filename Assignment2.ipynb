{
 "cells": [
  {
   "cell_type": "code",
   "execution_count": 101,
   "id": "b46c79ba",
   "metadata": {},
   "outputs": [],
   "source": [
    "import random"
   ]
  },
  {
   "cell_type": "code",
   "execution_count": 3,
   "id": "fb0269aa",
   "metadata": {},
   "outputs": [],
   "source": [
    "alphabet = 'abcdefghijklmnopqrstuvwxyz, '"
   ]
  },
  {
   "cell_type": "code",
   "execution_count": 4,
   "id": "192a784e",
   "metadata": {},
   "outputs": [],
   "source": [
    "def indexOfLetter(c):\n",
    "    return alphabet.find(c)"
   ]
  },
  {
   "cell_type": "code",
   "execution_count": 5,
   "id": "86f660bc",
   "metadata": {},
   "outputs": [],
   "source": [
    "def letterWithIndex(i):\n",
    "    return alphabet[i]"
   ]
  },
  {
   "cell_type": "code",
   "execution_count": 6,
   "id": "ab92bc81",
   "metadata": {},
   "outputs": [],
   "source": [
    "def shiftChar(c, shift):\n",
    "    i = indexOfLetter(c)\n",
    "    new = (i + shift) % 28\n",
    "    return letterWithIndex(new)"
   ]
  },
  {
   "cell_type": "code",
   "execution_count": 16,
   "id": "48ec7e18",
   "metadata": {},
   "outputs": [],
   "source": [
    "def caesar(plain):\n",
    "    # initiating variables for saving encrypted message and list of keys\n",
    "    cipher = \"\"\n",
    "    key_list = []\n",
    "    # itterating through each letter\n",
    "    for c in plain:\n",
    "        # creating variable to save a random key\n",
    "        rand_key = random.randint(0, len(alphabet))\n",
    "        # addind generated random key to the list of keys\n",
    "        key_list.append(rand_key)\n",
    "        # getting new value of the character and adding it to the whole message\n",
    "        cipher += shiftChar(c, rand_key)\n",
    "    return cipher, key_list"
   ]
  },
  {
   "cell_type": "code",
   "execution_count": 51,
   "id": "84ca8278",
   "metadata": {},
   "outputs": [],
   "source": [
    "def uncaesar(plain, key_list):\n",
    "    # initiating variables for saving decrypted message\n",
    "    decipher = \"\"\n",
    "    # itterating through each letter using enumerator which allows to access index of a char\n",
    "    for ind, c in enumerate(plain):\n",
    "        # getting decrypted value of the character and adding it to the whole message\n",
    "        decipher += shiftChar(c, -key_list[ind])\n",
    "    \n",
    "    return decipher\n",
    "        "
   ]
  },
  {
   "cell_type": "code",
   "execution_count": 86,
   "id": "ae5c89eb",
   "metadata": {},
   "outputs": [],
   "source": [
    "# function to encrypt the message first and pass the returnewd values to the decryption function.\n",
    "# returns true if the text given to caesar() is equal to the return value of uncaesar()\n",
    "def test_cipher(plain):\n",
    "    decripted, keys = caesar(plain)\n",
    "    print(decripted)\n",
    "    print(keys)\n",
    "    return uncaesar(decripted, keys) == plain\n",
    "    "
   ]
  },
  {
   "cell_type": "code",
   "execution_count": 110,
   "id": "a149668d",
   "metadata": {},
   "outputs": [
    {
     "name": "stdout",
     "output_type": "stream",
     "text": [
      "tiwnjytkiopxllnomtvygvjyun,kgigjdwvebiqasddeo inwyit,kuccuumzmua rnlpdkosmjxon,,ge\n",
      "[1, 4, 20, 24, 5, 5, 20, 2, 18, 15, 24, 16, 11, 20, 14, 6, 13, 16, 7, 25, 21, 7, 18, 25, 2, 26, 22, 10, 24, 9, 2, 24, 25, 11, 13, 14, 2, 19, 12, 0, 7, 20, 7, 5, 20, 23, 25, 2, 24, 25, 7, 27, 7, 11, 12, 3, 12, 5, 16, 12, 15, 13, 15, 14, 7, 28, 14, 25, 24, 24, 6, 25, 19, 1, 9, 10, 8, 21, 26, 20, 2, 14]\n"
     ]
    },
    {
     "data": {
      "text/plain": [
       "True"
      ]
     },
     "execution_count": 110,
     "metadata": {},
     "output_type": "execute_result"
    }
   ],
   "source": [
    "test_cipher('secret is that i do not speak englis really well, but i speak four other languages')"
   ]
  }
 ],
 "metadata": {
  "kernelspec": {
   "display_name": "Python 3 (ipykernel)",
   "language": "python",
   "name": "python3"
  },
  "language_info": {
   "codemirror_mode": {
    "name": "ipython",
    "version": 3
   },
   "file_extension": ".py",
   "mimetype": "text/x-python",
   "name": "python",
   "nbconvert_exporter": "python",
   "pygments_lexer": "ipython3",
   "version": "3.10.6"
  }
 },
 "nbformat": 4,
 "nbformat_minor": 5
}
